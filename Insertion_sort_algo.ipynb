{
  "nbformat": 4,
  "nbformat_minor": 0,
  "metadata": {
    "colab": {
      "provenance": []
    },
    "kernelspec": {
      "name": "python3",
      "display_name": "Python 3"
    },
    "language_info": {
      "name": "python"
    }
  },
  "cells": [
    {
      "cell_type": "code",
      "execution_count": 2,
      "metadata": {
        "id": "FsXgVrkcP0je"
      },
      "outputs": [],
      "source": [
        "\n",
        "# mark first element as sorted\n",
        "\n",
        "# for each unsorted element X\n",
        "\n",
        "#  'extract' the element X\n",
        "\n",
        "# for j = lastSortedIndex down to 0\n",
        "\n",
        "#  if current element j > X\n",
        "\n",
        "#     move sorted element to the right by 1\n",
        "\n",
        "#  break loop and insert X here"
      ]
    },
    {
      "cell_type": "code",
      "source": [
        "def insertion_sort(arr):\n",
        "  for i in range (1,len(arr)):\n",
        "    key = arr[i]\n",
        "    j = i - 1\n",
        "    while j >= 0 and key < arr[j]:\n",
        "      arr[j + 1] = arr[j]\n",
        "      j -= 1\n",
        "\n",
        "    arr[j+1] = key\n",
        "  return arr\n",
        "a = [3,4,78,23,45,12,70]\n",
        "insertion_sort(a)"
      ],
      "metadata": {
        "colab": {
          "base_uri": "https://localhost:8080/"
        },
        "id": "mZGuqJlk67Ci",
        "outputId": "14af0c4b-5e46-44f8-c706-e33e122784ea"
      },
      "execution_count": 3,
      "outputs": [
        {
          "output_type": "execute_result",
          "data": {
            "text/plain": [
              "[3, 4, 12, 23, 45, 70, 78]"
            ]
          },
          "metadata": {},
          "execution_count": 3
        }
      ]
    }
  ]
}